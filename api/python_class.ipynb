{
 "cells": [
  {
   "cell_type": "code",
   "execution_count": 1,
   "metadata": {},
   "outputs": [],
   "source": [
    "from fastapi import FastAPI #, UploadFile, File\n",
    "import uvicorn\n",
    "import numpy as np\n",
    "import cv2\n",
    "import nest_asyncio\n",
    "from pydantic import BaseModel"
   ]
  },
  {
   "cell_type": "code",
   "execution_count": 2,
   "metadata": {},
   "outputs": [],
   "source": [
    "class dat(BaseModel):\n",
    "    name:str\n",
    "    numb:int"
   ]
  },
  {
   "cell_type": "code",
   "execution_count": 3,
   "metadata": {},
   "outputs": [
    {
     "name": "stderr",
     "output_type": "stream",
     "text": [
      "INFO:     Started server process [9736]\n",
      "INFO:     Waiting for application startup.\n",
      "INFO:     Application startup complete.\n",
      "INFO:     Uvicorn running on http://localhost:8000 (Press CTRL+C to quit)\n"
     ]
    },
    {
     "name": "stdout",
     "output_type": "stream",
     "text": [
      "INFO:     ::1:56299 - \"POST /raheem HTTP/1.1\" 200 OK\n",
      "INFO:     ::1:56300 - \"POST /raheem HTTP/1.1\" 200 OK\n",
      "INFO:     ::1:56303 - \"GET /hello HTTP/1.1\" 200 OK\n"
     ]
    }
   ],
   "source": [
    "app = FastAPI()\n",
    "@app.get(\"/hello\")\n",
    "async def modl():\n",
    "    return \"hello world\"\n",
    "\n",
    "\n",
    "@app.post(\"/raheem\")\n",
    "async def mod(item:dat):\n",
    "    item.numb=item.numb*2\n",
    "    return item\n",
    "\n",
    "\"\"\"@app.post(\"/img\")\n",
    "async def imgd(file: UploadFile=File(...)):\n",
    "    rw=await file.read()\"\"\"\n",
    "\n",
    "if __name__==\"__main__\":\n",
    "    nest_asyncio.apply()\n",
    "    uvicorn.run(app,host=\"localhost\",port=8000)"
   ]
  },
  {
   "cell_type": "code",
   "execution_count": null,
   "metadata": {},
   "outputs": [],
   "source": []
  }
 ],
 "metadata": {
  "kernelspec": {
   "display_name": "Python 3",
   "language": "python",
   "name": "python3"
  },
  "language_info": {
   "codemirror_mode": {
    "name": "ipython",
    "version": 3
   },
   "file_extension": ".py",
   "mimetype": "text/x-python",
   "name": "python",
   "nbconvert_exporter": "python",
   "pygments_lexer": "ipython3",
   "version": "3.11.4"
  },
  "orig_nbformat": 4
 },
 "nbformat": 4,
 "nbformat_minor": 2
}
